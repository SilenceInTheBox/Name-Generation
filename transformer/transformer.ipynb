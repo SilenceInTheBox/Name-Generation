{
 "cells": [
  {
   "cell_type": "code",
   "execution_count": 2,
   "metadata": {},
   "outputs": [],
   "source": [
    "import torch\n",
    "import torch.nn as nn\n",
    "from torch.nn import functional as F"
   ]
  },
  {
   "cell_type": "code",
   "execution_count": 3,
   "metadata": {},
   "outputs": [
    {
     "data": {
      "text/plain": [
       "(1115394,\n",
       " 'First Citizen:\\nBefore we proceed any further, hear me speak.\\n\\nAll:\\nSpeak, speak.\\n\\nFirst Citizen:\\nYou')"
      ]
     },
     "execution_count": 3,
     "metadata": {},
     "output_type": "execute_result"
    }
   ],
   "source": [
    "# load dataset. \n",
    "# this file contains some works by shakespere as plain text\n",
    "\n",
    "with open(r'../text_input/input.txt') as file:\n",
    "    text = file.read()\n",
    "\n",
    "len(text), text[:100]"
   ]
  },
  {
   "cell_type": "code",
   "execution_count": 67,
   "metadata": {},
   "outputs": [
    {
     "data": {
      "text/plain": [
       "(torch.Size([1003854]),\n",
       " torch.Size([111540]),\n",
       " \"\\n !$&',-.3:;?ABCDEFGHIJKLMNOPQRSTUVWXYZabcdefghijklmnopqrstuvwxyz\",\n",
       " 65)"
      ]
     },
     "execution_count": 67,
     "metadata": {},
     "output_type": "execute_result"
    }
   ],
   "source": [
    "# preparatory work. \n",
    "# alphabet could also be called a token dictionary.\n",
    "# encode and decode are functions to quickly tokenize and detokenize a text.\n",
    "# lastly, data is split in train and validation set\n",
    "\n",
    "alphabet = ''.join(sorted(list(set(text))))\n",
    "alphabet, len(alphabet)\n",
    "\n",
    "stoi = {s:i for i,s in enumerate(alphabet)}\n",
    "itos = {i:s for i,s in enumerate(alphabet)}\n",
    "\n",
    "encode = lambda x: [stoi[i] for i in x]\n",
    "decode = lambda x: ''.join([itos[i] for i in x])\n",
    "\n",
    "data = torch.tensor(encode(text), dtype=torch.long)\n",
    "split_id = int(0.9*len(data))\n",
    "train_data = data[:split_id]\n",
    "val_data = data[split_id:]\n",
    "\n",
    "train_data.size(), val_data.size(), alphabet, len(alphabet)"
   ]
  },
  {
   "cell_type": "code",
   "execution_count": 5,
   "metadata": {},
   "outputs": [
    {
     "data": {
      "text/plain": [
       "(torch.Size([4, 8, 10]),\n",
       " torch.Size([4, 5, 8, 2]),\n",
       " torch.Size([4, 1, 8, 10]),\n",
       " torch.Size([4, 5, 8, 2]),\n",
       " torch.Size([4, 5, 8, 8]),\n",
       " torch.Size([4, 8, 10]))"
      ]
     },
     "execution_count": 5,
     "metadata": {},
     "output_type": "execute_result"
    }
   ],
   "source": [
    "# batch: num of parallel processed tokens\n",
    "# time: previous and posterior tokens\n",
    "# channels: embedding dim of each token\n",
    "B,T,C = 4,8,10                                  # B: batch, T: time, C: channels\n",
    "nH, sH = 5, 2                                   # nH: num of heads, sH: size of heads (in multi-head attention -> nH * sH = C)\n",
    "\n",
    "tril = torch.tril(torch.ones((T,T)))            # lower triangular matrix\n",
    "\n",
    "# keys, queries and values are model parameters that will be trained\n",
    "key = torch.randn((1,nH,C,sH))                  # how strong to give to another time\n",
    "query = torch.randn((1,nH,C,sH))                # how strong to receive from another time\n",
    "value = torch.randn((1,nH,C,sH))                # what value to transmit \n",
    "\n",
    "# void data & dimension magic\n",
    "x1 = torch.randn((B,T,C))\n",
    "x = x1.view((B,1,T,C))\n",
    "\n",
    "# compute key and query values \n",
    "k = x @ key                                     # (B,1,T,C) x (1,nH,C,sH) -> (B,nH,T,sH)\n",
    "q = x @ query                                   # (B,1,T,C) x (1,nH,C,sH) -> (B,nH,T,sH)\n",
    "\n",
    "# combine keys and queries to weights, i.e. the strength of connection between two tokens in time dimension\n",
    "wei = q @ k.transpose(-1,-2)                    # (B,nH,T,sH) x (B,nH,sH,T) -> (B,nH,T,T)\n",
    "wei = wei.masked_fill(tril == 0, float('-inf')) # ignore anticausal time\n",
    "wei = F.softmax(wei, dim=-1)                    # rescale to [0,1]\n",
    "\n",
    "# create values - the actual information to give - for each token and \n",
    "v = x @ value                                   # (B,1,T,C) x (1,nH,C,sH) -> (B,nH,T,sH)\n",
    "out = wei @ v                                   # (B,nH,T,T) x (B,nH,T,sH) -> (B,nH,T,sH)\n",
    "out = out.permute(0,2,1,3).reshape((B,T,-1))    # (B,nH,T,sH) -> (B,T,nH,sH) -> (B,T,nH*sH) = (B,T,C)\n",
    "x1.shape, k.shape, x.shape, v.shape, wei.shape, out.shape\n",
    "\n",
    "### RECAP\n",
    "# input has batches (the number of parallel computations), time (the number of adjacent tokens that are taken into consideration), and channels (num of embedding dim)\n",
    "# attention creates connections with varying strengths between tokens in the time domain. strength is determined by dot product of keys and queries.\n",
    "# value is the actual information that is transmitted over the built connections.\n",
    "# because we are interested in predicting the next character, we do not allow connections from future tokens to past tokens (tril matrix)\n",
    "# all matrix multiplications could also be implemented as linear layers of a neural network\n",
    "# in multi-head attention, we split the channel dimension in multiple seperate parts. each part will be processed by a different head (potentially different keys, queries, values, etc.)"
   ]
  },
  {
   "cell_type": "code",
   "execution_count": 6,
   "metadata": {},
   "outputs": [
    {
     "name": "stdout",
     "output_type": "stream",
     "text": [
      "tensor([[53,  1, 39,  1, 51, 39, 56, 40],\n",
      "        [45, 53, 53, 42,  1, 50, 53, 56],\n",
      "        [ 1, 40, 56, 47, 41, 49,  6,  0],\n",
      "        [16, 59, 49, 43,  1, 53, 44,  1]])\n",
      "tensor([[ 1, 39,  1, 51, 39, 56, 40, 50],\n",
      "        [53, 53, 42,  1, 50, 53, 56, 42],\n",
      "        [40, 56, 47, 41, 49,  6,  0, 35],\n",
      "        [59, 49, 43,  1, 53, 44,  1, 26]])\n"
     ]
    },
    {
     "data": {
      "text/plain": [
       "(torch.Size([4, 8]), torch.Size([4, 8]))"
      ]
     },
     "execution_count": 6,
     "metadata": {},
     "output_type": "execute_result"
    }
   ],
   "source": [
    "# fct that prepares data for training. \n",
    "# x is of shape (batchsize, blocksize)\n",
    "# y is of shape (batchsize, blocksize)\n",
    "# for every entry in x[i,j], \n",
    "# y[i,j] is the prediction given context x[:i,j]\n",
    "# this structure makes sense given the attention blocks that are \n",
    "# introduced later!\n",
    "\n",
    "blocksize = 8\n",
    "batchsize = 4\n",
    "def get_batch(split):\n",
    "    data = train_data if split == 'train' else val_data\n",
    "    ix = torch.randint(len(train_data)-blocksize, (batchsize,))\n",
    "    x = torch.stack([train_data[i:i+blocksize] for i in ix])\n",
    "    y = torch.stack([train_data[i+1:i+blocksize+1] for i in ix])\n",
    "    return x,y\n",
    "\n",
    "Xb,Yb = get_batch('train')\n",
    "print(Xb,Yb,sep='\\n')\n",
    "Xb.shape,Yb.shape"
   ]
  },
  {
   "cell_type": "code",
   "execution_count": 7,
   "metadata": {},
   "outputs": [],
   "source": [
    "# the most simple prediction model. \n",
    "# takes in a single character and predicts the next.\n",
    "# the embedding provides a prob. distr. for every character in alphabet.\n",
    "# watch out - torch usually requires (B,C,d1,d2,...), \n",
    "# we mostly use (B,d1,d2,...,C), so occasionally some modification are necesarry. \n",
    "# forward() specifies how the network works. \n",
    "# generate() applies the network to generate text based on its learning.\n",
    "# notices that in this network the batch AND the time dimension act as\n",
    "# if they are batch dimension. there is no special meaning to the\n",
    "# time dimension as of now. \n",
    "# that is the reason why we can concatenate these dimensions in forward().\n",
    "\n",
    "\n",
    "class BigramModel(nn.Module):\n",
    "    def __init__(self):\n",
    "        super().__init__()\n",
    "        self.emb = nn.Embedding(len(alphabet), len(alphabet))\n",
    "\n",
    "    def forward(self, x, y=None):\n",
    "        logits = self.emb(x)\n",
    "\n",
    "        if y is None:\n",
    "            loss = None\n",
    "        else:\n",
    "            B, T, C = logits.shape\n",
    "            logits = logits.view(B*T, C)\n",
    "            y = y.view(B*T)\n",
    "            loss = F.cross_entropy(logits, y)\n",
    "\n",
    "        return logits, loss\n",
    "    \n",
    "    def generate(self, x, max_tokens):\n",
    "        for _ in range(max_tokens):\n",
    "            logits, loss = self(x)\n",
    "            logits = logits[:,-1,:]\n",
    "            probs = F.softmax(logits, dim=-1)\n",
    "            pred = torch.multinomial(probs, num_samples=1)\n",
    "            x = torch.cat((x, pred), dim=1)\n",
    "        return x\n"
   ]
  },
  {
   "cell_type": "code",
   "execution_count": 71,
   "metadata": {},
   "outputs": [
    {
     "name": "stdout",
     "output_type": "stream",
     "text": [
      "\n",
      "i'iWXutSQyMy&;aYVs&GgAFk jW-dpHYr\n",
      ";kQm!PE'zB,OIcHy\n"
     ]
    }
   ],
   "source": [
    "m = BigramModel()\n",
    "log, los = m(Xb, Yb)\n",
    "\n",
    "print(decode(m.generate(x=torch.zeros((1,1), dtype=torch.long), max_tokens=50)[0].tolist()))"
   ]
  },
  {
   "cell_type": "code",
   "execution_count": 22,
   "metadata": {},
   "outputs": [],
   "source": [
    "optimizer = torch.optim.AdamW(m.parameters(), lr=1e-3)\n"
   ]
  },
  {
   "cell_type": "code",
   "execution_count": 57,
   "metadata": {},
   "outputs": [
    {
     "name": "stdout",
     "output_type": "stream",
     "text": [
      "2.729191541671753\n"
     ]
    }
   ],
   "source": [
    "for _ in range(1000):\n",
    "    xb,yb = get_batch('train')\n",
    "    logits, loss = m(xb,yb)\n",
    "    optimizer.zero_grad(set_to_none=True)\n",
    "    loss.backward()\n",
    "    optimizer.step()\n",
    "\n",
    "print(loss.item())"
   ]
  },
  {
   "cell_type": "code",
   "execution_count": 66,
   "metadata": {},
   "outputs": [
    {
     "name": "stdout",
     "output_type": "stream",
     "text": [
      "\n",
      "Aqber'scou have usure w?\n",
      "Wininorry'the\n",
      "MI t pry at\n"
     ]
    }
   ],
   "source": [
    "print(decode(m.generate(x=torch.zeros((1,1), dtype=torch.long), max_tokens=50)[0].tolist()))"
   ]
  },
  {
   "cell_type": "code",
   "execution_count": 301,
   "metadata": {},
   "outputs": [],
   "source": [
    "# version 1\n",
    "tril = torch.tril(torch.ones((blocksize,blocksize))) \n",
    "atmask = tril / tril.sum(axis=1, keepdim=True)\n"
   ]
  },
  {
   "cell_type": "code",
   "execution_count": 304,
   "metadata": {},
   "outputs": [
    {
     "data": {
      "text/plain": [
       "torch.Size([4, 8, 2])"
      ]
     },
     "execution_count": 304,
     "metadata": {},
     "output_type": "execute_result"
    }
   ],
   "source": [
    "# version 3\n",
    "tril = torch.tril(torch.ones((blocksize,blocksize)))\n",
    "wei = torch.zeros((blocksize,blocksize))\n",
    "wei = wei.masked_fill(tril == 0, float('-inf'))\n",
    "wei = F.softmax(wei, dim=1)\n",
    "(wei @ xtest).shape"
   ]
  },
  {
   "cell_type": "code",
   "execution_count": 320,
   "metadata": {},
   "outputs": [
    {
     "data": {
      "text/plain": [
       "(torch.Size([4, 8, 8]), torch.Size([4, 8, 6]), torch.Size([4, 8, 6]))"
      ]
     },
     "execution_count": 320,
     "metadata": {},
     "output_type": "execute_result"
    }
   ],
   "source": [
    "# version 4: self-attention\n",
    "B,T,C = 4,8,2\n",
    "head_size = 6\n",
    "xtest = torch.randn((B,T,C))    # (B,T,C)\n",
    "key = nn.Linear(C, head_size, bias=False)\n",
    "query = nn.Linear(C, head_size, bias=False)\n",
    "value = nn.Linear(C, head_size, bias=False)\n",
    "k = key(xtest)      # (B,T,H)\n",
    "q = query(xtest)    # (B,T,H)\n",
    "wei = k @ q.transpose(-1,-2) * head_size**-0.5   # (B,T,H) @ (B,H,T) --> (B,T,T)\n",
    "\n",
    "tril = torch.tril(torch.ones(T,T))\n",
    "wei = wei.masked_fill(tril == 0, float('-inf'))\n",
    "wei = F.softmax(wei, dim=-1)\n",
    "\n",
    "v = value(xtest)\n",
    "out = wei @ v\n",
    "\n",
    "wei.shape, v.shape, out.shape"
   ]
  }
 ],
 "metadata": {
  "kernelspec": {
   "display_name": "bigram",
   "language": "python",
   "name": "python3"
  },
  "language_info": {
   "codemirror_mode": {
    "name": "ipython",
    "version": 3
   },
   "file_extension": ".py",
   "mimetype": "text/x-python",
   "name": "python",
   "nbconvert_exporter": "python",
   "pygments_lexer": "ipython3",
   "version": "3.10.13"
  }
 },
 "nbformat": 4,
 "nbformat_minor": 2
}
