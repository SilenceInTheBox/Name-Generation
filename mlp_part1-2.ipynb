{
 "cells": [
  {
   "attachments": {},
   "cell_type": "markdown",
   "metadata": {},
   "source": [
    "makemore: multilayer perceptron\n",
    "===\n",
    "# part 1 & 2\n"
   ]
  },
  {
   "cell_type": "code",
   "execution_count": 1,
   "metadata": {},
   "outputs": [],
   "source": [
    "import torch\n",
    "import torch.nn.functional as F\n",
    "import matplotlib.pyplot as plt\n",
    "%matplotlib inline"
   ]
  },
  {
   "cell_type": "code",
   "execution_count": 2,
   "metadata": {},
   "outputs": [
    {
     "data": {
      "text/plain": [
       "['emma', 'olivia', 'ava', 'isabella', 'sophia', 'charlotte', 'mia', 'amelia']"
      ]
     },
     "execution_count": 2,
     "metadata": {},
     "output_type": "execute_result"
    }
   ],
   "source": [
    "words = open('names.txt').read().splitlines()\n",
    "words[:8]"
   ]
  },
  {
   "cell_type": "code",
   "execution_count": 3,
   "metadata": {},
   "outputs": [
    {
     "name": "stdout",
     "output_type": "stream",
     "text": [
      "{1: 'a', 2: 'b', 3: 'c', 4: 'd', 5: 'e', 6: 'f', 7: 'g', 8: 'h', 9: 'i', 10: 'j', 11: 'k', 12: 'l', 13: 'm', 14: 'n', 15: 'o', 16: 'p', 17: 'q', 18: 'r', 19: 's', 20: 't', 21: 'u', 22: 'v', 23: 'w', 24: 'x', 25: 'y', 26: 'z', 0: '.'}\n"
     ]
    }
   ],
   "source": [
    "chars = sorted(list(set(''.join(words))))\n",
    "\n",
    "stoi = {s:i+1 for i,s in enumerate(chars)}\n",
    "stoi.update({'.': 0})\n",
    "itos = {i:s for s,i in stoi.items()}\n",
    "print(itos)"
   ]
  },
  {
   "cell_type": "code",
   "execution_count": 4,
   "metadata": {},
   "outputs": [],
   "source": [
    "def build_dataset(name_list):\n",
    "    '''\n",
    "    Dataset consists of input tensor X and label tensor Y. \n",
    "    Input tensor contains three numerically encoded characters (independent of the name it originates from).\n",
    "    Label tensor carries the respective following character (also encoded).\n",
    "    '''\n",
    "    block_size = 3\n",
    "    X, Y = [], []\n",
    "    for name in name_list:\n",
    "        context = [0] * block_size\n",
    "        for ch in name + '.':\n",
    "            ix = stoi[ch]\n",
    "            X.append(context)\n",
    "            Y.append(ix)\n",
    "            context = context[1:] + [ix]\n",
    "\n",
    "    X = torch.tensor(X)\n",
    "    Y = torch.tensor(Y)\n",
    "    return X, Y\n",
    "\n",
    "import random\n",
    "random.seed(12219195)\n",
    "random.shuffle(words)\n",
    "n1 = int(0.8*len(words))\n",
    "n2 = int(0.9*len(words))\n",
    "\n",
    "Xtr, Ytr = build_dataset(words[:n1])\n",
    "Xdev, Ydev = build_dataset(words[n1:n2])\n",
    "Xte, Yte = build_dataset(words[n2:])"
   ]
  },
  {
   "cell_type": "code",
   "execution_count": 5,
   "metadata": {},
   "outputs": [
    {
     "name": "stdout",
     "output_type": "stream",
     "text": [
      "12297\n"
     ]
    }
   ],
   "source": [
    "g = torch.Generator().manual_seed(12219195)\n",
    "\n",
    "hidden_dim = 200\n",
    "emb_dim = 10\n",
    "block_size = 3\n",
    "\n",
    "C = torch.randn((27,emb_dim)                        ,generator=g)\n",
    "W1 = torch.randn((emb_dim*block_size,hidden_dim)    ,generator=g) * (5/3)/(emb_dim*block_size)**0.5 #* 0.2\n",
    "b1 = torch.randn(hidden_dim                         ,generator=g) * 0.1 # actually useless \n",
    "W2 = torch.randn((hidden_dim,27)                    ,generator=g) * 0.1\n",
    "b2 = torch.randn(27                                 ,generator=g) * 0.1\n",
    "\n",
    "# parameters of batch normalization\n",
    "bngain = torch.ones((1, hidden_dim)) * 0.1 + 1.0\n",
    "bnbias = torch.zeros((1, hidden_dim)) * 0.1\n",
    "# buffers of batch normalization (not trained with backprop)\n",
    "bnmean_running = torch.zeros((1, hidden_dim))\n",
    "bnstd_running = torch.ones((1, hidden_dim))\n",
    "\n",
    "parameters = [C, W1, b1, W2, b2, bngain, bnbias] # b1\n",
    "print(sum(p.nelement() for p in parameters))\n",
    "for p in parameters:\n",
    "    p.requires_grad = True\n"
   ]
  },
  {
   "cell_type": "code",
   "execution_count": 104,
   "metadata": {},
   "outputs": [
    {
     "name": "stdout",
     "output_type": "stream",
     "text": [
      "      0/  20000: 3.2860\n",
      "  10000/  20000: 2.2477\n",
      "2.2910122871398926\n"
     ]
    }
   ],
   "source": [
    "n_steps = 20000\n",
    "batch_size = 32\n",
    "lossi = []\n",
    "\n",
    "for i in range(n_steps):\n",
    "    # minibatch contruct\n",
    "    batch_ix = torch.randint(0, Xtr.shape[0], (batch_size,), generator=g)\n",
    "    Xb, Yb = Xtr[batch_ix], Ytr[batch_ix]\n",
    "\n",
    "    # forward pass\n",
    "    emb = C[Xb] # embed characters into vectors\n",
    "    embcat = emb.view(Xb.shape[0],-1) # concatenate vectors\n",
    "    # linear layer\n",
    "    hpreact = embcat @ W1 # + b1    # no bias because it will be subtraced out in the batch norm anyway\n",
    "    # batch norm layer\n",
    "    # ----------------------------------------------------------\n",
    "    bnmeani = hpreact.mean(0, keepdim=True)\n",
    "    bnstdi = hpreact.std(0, keepdim=True)\n",
    "    hpreact = bngain * (hpreact - bnmeani) / bnstdi + bnbias\n",
    "    with torch.no_grad():\n",
    "        bnmean_running = 0.999 * bnmean_running + 0.001 * bnmeani\n",
    "        bnstd_running = 0.999 * bnstd_running + 0.001 * bnstdi\n",
    "    # ----------------------------------------------------------\n",
    "    # activation function \n",
    "    h = torch.tanh(hpreact)\n",
    "    logits = h @ W2 + b2\n",
    "    loss = F.cross_entropy(logits, Ytr[batch_ix])\n",
    "    \n",
    "    # backward pass\n",
    "    for p in parameters:\n",
    "        p.grad = None\n",
    "    loss.backward()\n",
    "\n",
    "    # update\n",
    "    lr = 0.1 if i < 50000 else 0.01\n",
    "    for p in parameters:\n",
    "        p.data += -lr * p.grad\n",
    "\n",
    "    # track stats\n",
    "    if i % 10000 == 0: \n",
    "        print(f'{i:7d}/{n_steps:7d}: {loss.item():.4f}')\n",
    "    lossi.append(loss.log10().item())\n",
    "    \n",
    "print(loss.item())"
   ]
  },
  {
   "cell_type": "code",
   "execution_count": 94,
   "metadata": {},
   "outputs": [
    {
     "data": {
      "image/png": "[encoded data removed]",
      "text/plain": [
       "<Figure size 640x480 with 1 Axes>"
      ]
     },
     "metadata": {},
     "output_type": "display_data"
    }
   ],
   "source": [
    "plt.plot(lossi);"
   ]
  },
  {
   "cell_type": "code",
   "execution_count": 95,
   "metadata": {},
   "outputs": [],
   "source": [
    "with torch.no_grad():\n",
    "    emb = C[Xtr]\n",
    "    embcat = emb.view(emb.shape[0], -1)\n",
    "    hpreact = embcat @ W1 # + b1\n",
    "    bnmean = hpreact.mean(0, keepdim=True)\n",
    "    bnstd = hpreact.std(0, keepdim=True)"
   ]
  },
  {
   "cell_type": "code",
   "execution_count": 96,
   "metadata": {},
   "outputs": [
    {
     "name": "stdout",
     "output_type": "stream",
     "text": [
      "train 2.2122364044189453\n",
      "val 2.2394468784332275\n"
     ]
    }
   ],
   "source": [
    "@torch.no_grad()\n",
    "def split_loss(split):\n",
    "    x,y = { 'train': (Xtr, Ytr),\n",
    "            'val': (Xdev, Ydev),\n",
    "            'test': (Xte, Yte)}[split]\n",
    "    emb = C[x]\n",
    "    embcat = emb.view(emb.shape[0], -1)\n",
    "    hpreact = embcat @ W1 # + b1\n",
    "    hpreact = bngain * (hpreact - bnmean_running) / bnstd_running + bnbias\n",
    "    h = torch.tanh(hpreact)\n",
    "    logits = h @ W2 + b2\n",
    "    loss = F.cross_entropy(logits, y)\n",
    "    print(split, loss.item())\n",
    "\n",
    "split_loss('train')\n",
    "split_loss('val')"
   ]
  },
  {
   "cell_type": "code",
   "execution_count": 97,
   "metadata": {},
   "outputs": [
    {
     "name": "stdout",
     "output_type": "stream",
     "text": [
      "maivirdom.\n",
      "mmmttavishavedhannahastefakhunbyrdna.\n",
      "hashustlybaansrigh.\n",
      "huusafutkllinaerryg.\n",
      "khramshammakyuxausnacrzengheytonivckenghlynn.\n",
      "hudvymahlyndedrotifannafjundyhshaflahjr.\n",
      "dshabrixfoesten.\n",
      "madshkydsefondonsen.\n",
      "brilghannlrennabruz.\n",
      "vannasren.\n",
      "shiflenn.\n",
      "havlevdalinahdon.\n",
      "maklyn.\n",
      "destinnlyck.\n",
      "bria.\n",
      "khamda.\n",
      "matdan.\n",
      "flemman.\n",
      "rhzavyonxshermanthkinzlemakahlyn.\n",
      "murgh.\n"
     ]
    }
   ],
   "source": [
    "g = torch.Generator().manual_seed(12219195)\n",
    "\n",
    "for _ in range(20):\n",
    "    word = []\n",
    "    context = [0]*block_size\n",
    "    while True:\n",
    "        emb = C[torch.tensor([context])]\n",
    "        h = torch.tanh(emb.view(1,-1) @ W1) # + b1\n",
    "        logits = h @ W2 + b2\n",
    "        probs = F.softmax(logits, dim=1)\n",
    "        ix = torch.multinomial(probs, num_samples=1, generator=g).item() # torch.max(probs, dim=1)  \n",
    "        context = context[1:] + [ix]\n",
    "        word.append(ix)\n",
    "        if ix == 0:\n",
    "            break\n",
    "    print(''.join(itos[i] for i in word))\n"
   ]
  },
  {
   "cell_type": "code",
   "execution_count": 66,
   "metadata": {},
   "outputs": [
    {
     "name": "stdout",
     "output_type": "stream",
     "text": [
      "... ---> l \t 0.013624904677271843\n",
      "..l ---> u \t 0.446750670671463\n",
      ".lu ---> i \t 0.002670345129445195\n",
      "lui ---> s \t 0.19389955699443817\n",
      "uis ---> e \t 0.04016263782978058\n",
      "ise ---> . \t 0.11721941083669662\n",
      "1.4837633344200185e-08\n"
     ]
    }
   ],
   "source": [
    "names = ['luise']\n",
    "for n in names:\n",
    "    context = block_size * [0]\n",
    "    likey = 1\n",
    "    for ch in n + '.':\n",
    "        ix = stoi[ch]\n",
    "        emb = C[torch.tensor([context])]\n",
    "        h = torch.tanh(emb.view(1,-1) @ W1) # + b1\n",
    "        logits = h @ W2 + b2\n",
    "        prob = F.softmax(logits, dim=1)\n",
    "        print(''.join([itos[i] for i in context]), '--->', ch, '\\t', prob[0,ix].item())\n",
    "        likey *= prob[0,ix]\n",
    "        context = context[1:] + [ix]\n",
    "    print(likey.item())\n"
   ]
  }
 ],
 "metadata": {
  "kernelspec": {
   "display_name": "Python 3.10.6 ('bigram')",
   "language": "python",
   "name": "python3"
  },
  "language_info": {
   "codemirror_mode": {
    "name": "ipython",
    "version": 3
   },
   "file_extension": ".py",
   "mimetype": "text/x-python",
   "name": "python",
   "nbconvert_exporter": "python",
   "pygments_lexer": "ipython3",
   "version": "3.10.6"
  },
  "orig_nbformat": 4,
  "vscode": {
   "interpreter": {
    "hash": "196278cbd403e0ad682d08aa0215688ee77b3ca5ee815a1c2b47bcd97dd8f8a5"
   }
  }
 },
 "nbformat": 4,
 "nbformat_minor": 2
}
